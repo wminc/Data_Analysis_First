{
 "cells": [
  {
   "cell_type": "markdown",
   "metadata": {},
   "source": [
    "## IPython Basics\n",
    "\n",
    "#### 1. Running the Jupyter Notebook\n",
    "> jupyter notebook\n",
    "\n",
    "#### 2. 对象内省（？或者？？）"
   ]
  },
  {
   "cell_type": "code",
   "execution_count": 1,
   "metadata": {},
   "outputs": [],
   "source": [
    "a = [1,2,3]\n",
    "a?"
   ]
  },
  {
   "cell_type": "markdown",
   "metadata": {},
   "source": [
    "Type:        list <br>\n",
    "String form: [1, 2, 3]<br>\n",
    "Length:      3<br>\n",
    "Docstring:  <br>\n",
    "list() -> new empty list<br>\n",
    "list(iterable) -> new list initialized from iterable's items<br>"
   ]
  },
  {
   "cell_type": "code",
   "execution_count": 2,
   "metadata": {},
   "outputs": [],
   "source": [
    "def add_numbers(a, b):\n",
    "    \"\"\"\n",
    "    Add two numbers together\n",
    "\n",
    "    Returns\n",
    "    -------\n",
    "    the_sum : type of arguments\n",
    "    \"\"\"\n",
    "    return a + b"
   ]
  },
  {
   "cell_type": "code",
   "execution_count": 5,
   "metadata": {},
   "outputs": [],
   "source": [
    "add_numbers?"
   ]
  },
  {
   "cell_type": "markdown",
   "metadata": {},
   "source": [
    "Signature: add_numbers(a, b)<br>\n",
    "Docstring:<br>\n",
    "Add two numbers together<br>\n",
    "<br>\n",
    "Returns<br>\n",
    "-------<br>\n",
    "the_sum : type of arguments<br>\n",
    "File:      d:\\data_analysis_first\\my_study\\\\<ipython-input-2-0e543d60c645\\> <br>\n",
    "Type:      function<br>"
   ]
  },
  {
   "cell_type": "code",
   "execution_count": 4,
   "metadata": {},
   "outputs": [],
   "source": [
    "add_numbers??   # 显示源码"
   ]
  },
  {
   "cell_type": "markdown",
   "metadata": {},
   "source": [
    "Signature: add_numbers(a, b)<br>\n",
    "Source:   <br>\n",
    "def add_numbers(a, b):<br>\n",
    "    \"\"\"<br>\n",
    "    Add two numbers together<br>\n",
    "    <br>\n",
    "    Returns<br>\n",
    "    -------<br>\n",
    "    the_sum : type of arguments<br>\n",
    "    \"\"\"<br>\n",
    "    return a + b<br>\n",
    "File:      d:\\data_analysis_first\\my_study\\\\<ipython-input-2-0e543d60c645\\> <br>\n",
    "Type:      function<br>"
   ]
  },
  {
   "cell_type": "markdown",
   "metadata": {},
   "source": [
    "#### 3. %run\n",
    "> 在IPython中，所有文件可以通过%run命令当做python程序执行"
   ]
  },
  {
   "cell_type": "code",
   "execution_count": 7,
   "metadata": {},
   "outputs": [],
   "source": [
    "%run ipython_script_test.py"
   ]
  },
  {
   "cell_type": "code",
   "execution_count": 8,
   "metadata": {},
   "outputs": [
    {
     "data": {
      "text/plain": [
       "7.5"
      ]
     },
     "execution_count": 8,
     "metadata": {},
     "output_type": "execute_result"
    }
   ],
   "source": [
    "c"
   ]
  },
  {
   "cell_type": "code",
   "execution_count": 9,
   "metadata": {},
   "outputs": [
    {
     "data": {
      "text/plain": [
       "1.4666666666666666"
      ]
     },
     "execution_count": 9,
     "metadata": {},
     "output_type": "execute_result"
    }
   ],
   "source": [
    "result"
   ]
  },
  {
   "cell_type": "markdown",
   "metadata": {},
   "source": [
    "#### 4. 执行剪切板中的代码\n",
    "- %paste\n",
    "- %cpaste\n",
    "\n",
    "demo\n",
    "```python\n",
    "\n",
    "x = 5\n",
    "y = 7\n",
    "if x > 5:\n",
    "    x += 1\n",
    "\n",
    "    y = 8\n",
    "```\n",
    "\n",
    "根据系统和python安装情况，%paste可能会不起作用"
   ]
  },
  {
   "cell_type": "markdown",
   "metadata": {},
   "source": [
    "#### 5. 魔术命令\n",
    "> 魔术命令可以看作IPython中的系统命令，魔术命令默认可以不带百分号使用，只要没有与其相同命名的变量即可，这个技术叫做automagic\n",
    "\n",
    "- %timeit\n",
    "> 检测程序执行时间"
   ]
  },
  {
   "cell_type": "code",
   "execution_count": 15,
   "metadata": {},
   "outputs": [],
   "source": [
    "import numpy as np\n",
    "a = np.random.randn(100,100)"
   ]
  },
  {
   "cell_type": "code",
   "execution_count": 16,
   "metadata": {},
   "outputs": [
    {
     "name": "stdout",
     "output_type": "stream",
     "text": [
      "156 µs ± 2.92 µs per loop (mean ± std. dev. of 7 runs, 10000 loops each)\n"
     ]
    }
   ],
   "source": [
    "%timeit np.dot(a,a)"
   ]
  },
  {
   "cell_type": "markdown",
   "metadata": {},
   "source": [
    "#### 6. 搜索并重用历史命令\n",
    "- 【ctrl】+【P】或者【ctrl】+【上箭头】\n",
    "- 【ctrl】+【N】或者【ctrl】+【下箭头】"
   ]
  },
  {
   "cell_type": "markdown",
   "metadata": {},
   "source": [
    "#### 7. 输入输出变量\n",
    ">忘记把函数结果赋值给变量是很郁闷的，不过IPython会把最近的两个输出结果分别保存在\\_（一个下划线）和\\_\\_（两个下划线）的变量中,\n",
    "会把输入的文本保存在\\_iX的文本中（X是输入行的行号），把该输入的输出结果保存在\\_X的变量中\n",
    "比如，27行输入完之后，会产生两个变量\\_27(输出变量)和\\_i27(输入变量)\n",
    "\n",
    "有几个魔术方法可以控制输入输出，%hist用于打印全部或部分输入历史，可以选择是否带行号。%reset用于清空interactive命名空间，并选择是否清空输入输出缓存。%xdel用于从IPython系统中移除特定对象的一切引用。在处理较大数据集时，一定要注意IPython的输入输出历史，他会大致所有对象引用无法被垃圾收集器处理（急释放内存）。对于这种情况谨慎使用%xdel和%reset."
   ]
  }
 ],
 "metadata": {
  "kernelspec": {
   "display_name": "Python 3",
   "language": "python",
   "name": "python3"
  },
  "language_info": {
   "codemirror_mode": {
    "name": "ipython",
    "version": 3
   },
   "file_extension": ".py",
   "mimetype": "text/x-python",
   "name": "python",
   "nbconvert_exporter": "python",
   "pygments_lexer": "ipython3",
   "version": "3.6.6"
  }
 },
 "nbformat": 4,
 "nbformat_minor": 2
}
